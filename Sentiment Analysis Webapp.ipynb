{
 "cells": [
  {
   "cell_type": "code",
   "execution_count": 2,
   "id": "0edeef60",
   "metadata": {},
   "outputs": [
    {
     "name": "stderr",
     "output_type": "stream",
     "text": [
      "[nltk_data] Downloading package stopwords to C:\\Users\\Anil\n",
      "[nltk_data]     munde\\AppData\\Roaming\\nltk_data...\n",
      "[nltk_data]   Package stopwords is already up-to-date!\n"
     ]
    }
   ],
   "source": [
    "import numpy as np ## scientific computation\n",
    "import pandas as pd ## loading dataset file\n",
    "import matplotlib.pyplot as plt ## Visulization\n",
    "import nltk  ## Preprocessing Reviews\n",
    "nltk.download('stopwords') ##Downloading stopwords\n",
    "from nltk.corpus import stopwords ## removing all the stop words\n",
    "from nltk.stem.porter import PorterStemmer ## stemming of words\n",
    "import re  ## To use Regular expression"
   ]
  },
  {
   "cell_type": "code",
   "execution_count": 3,
   "id": "e42124d7",
   "metadata": {},
   "outputs": [
    {
     "data": {
      "text/html": [
       "<div>\n",
       "<style scoped>\n",
       "    .dataframe tbody tr th:only-of-type {\n",
       "        vertical-align: middle;\n",
       "    }\n",
       "\n",
       "    .dataframe tbody tr th {\n",
       "        vertical-align: top;\n",
       "    }\n",
       "\n",
       "    .dataframe thead th {\n",
       "        text-align: right;\n",
       "    }\n",
       "</style>\n",
       "<table border=\"1\" class=\"dataframe\">\n",
       "  <thead>\n",
       "    <tr style=\"text-align: right;\">\n",
       "      <th></th>\n",
       "      <th>field_publication_date</th>\n",
       "      <th>title</th>\n",
       "      <th>body</th>\n",
       "      <th>path</th>\n",
       "      <th>catagory</th>\n",
       "    </tr>\n",
       "  </thead>\n",
       "  <tbody>\n",
       "    <tr>\n",
       "      <th>0</th>\n",
       "      <td>2022-05-27 09:09:12</td>\n",
       "      <td>'How do you shoot my baby?': Medic finds out d...</td>\n",
       "      <td>It was just like any other Tuesday morning for...</td>\n",
       "      <td>/world/how-do-you-shoot-my-baby-medic-finds-ou...</td>\n",
       "      <td>world</td>\n",
       "    </tr>\n",
       "    <tr>\n",
       "      <th>1</th>\n",
       "      <td>2022-05-27 08:42:18</td>\n",
       "      <td>'They told me to apply tomato sauce on my body...</td>\n",
       "      <td>SINGAPORE - When fraudsters posing as Immigrat...</td>\n",
       "      <td>/singapore/they-told-me-apply-tomato-sauce-my-...</td>\n",
       "      <td>singapore</td>\n",
       "    </tr>\n",
       "    <tr>\n",
       "      <th>2</th>\n",
       "      <td>2022-05-27 08:25:07</td>\n",
       "      <td>Elvis film director calls Presley family respo...</td>\n",
       "      <td>CANNES, France — Film director Baz Luhrmann sa...</td>\n",
       "      <td>/entertainment/elvis-film-director-calls-presl...</td>\n",
       "      <td>entertainment</td>\n",
       "    </tr>\n",
       "    <tr>\n",
       "      <th>3</th>\n",
       "      <td>2022-05-26 10:48:00</td>\n",
       "      <td>Indonesian mum under fire for feeding baby dis...</td>\n",
       "      <td>Parents are generally encouraged to include so...</td>\n",
       "      <td>/asia/indonesian-mum-under-fire-feeding-baby-d...</td>\n",
       "      <td>asia</td>\n",
       "    </tr>\n",
       "    <tr>\n",
       "      <th>4</th>\n",
       "      <td>2022-05-26 10:11:00</td>\n",
       "      <td>Tanks, but no ammo - Germany's Ukraine pledges...</td>\n",
       "      <td>BERLIN — Four weeks ago, Germany agreed to sen...</td>\n",
       "      <td>/world/tanks-no-ammo-germanys-ukraine-pledges-...</td>\n",
       "      <td>world</td>\n",
       "    </tr>\n",
       "  </tbody>\n",
       "</table>\n",
       "</div>"
      ],
      "text/plain": [
       "  field_publication_date                                              title  \\\n",
       "0    2022-05-27 09:09:12  'How do you shoot my baby?': Medic finds out d...   \n",
       "1    2022-05-27 08:42:18  'They told me to apply tomato sauce on my body...   \n",
       "2    2022-05-27 08:25:07  Elvis film director calls Presley family respo...   \n",
       "3    2022-05-26 10:48:00  Indonesian mum under fire for feeding baby dis...   \n",
       "4    2022-05-26 10:11:00  Tanks, but no ammo - Germany's Ukraine pledges...   \n",
       "\n",
       "                                                body  \\\n",
       "0  It was just like any other Tuesday morning for...   \n",
       "1  SINGAPORE - When fraudsters posing as Immigrat...   \n",
       "2  CANNES, France — Film director Baz Luhrmann sa...   \n",
       "3  Parents are generally encouraged to include so...   \n",
       "4  BERLIN — Four weeks ago, Germany agreed to sen...   \n",
       "\n",
       "                                                path       catagory  \n",
       "0  /world/how-do-you-shoot-my-baby-medic-finds-ou...          world  \n",
       "1  /singapore/they-told-me-apply-tomato-sauce-my-...      singapore  \n",
       "2  /entertainment/elvis-film-director-calls-presl...  entertainment  \n",
       "3  /asia/indonesian-mum-under-fire-feeding-baby-d...           asia  \n",
       "4  /world/tanks-no-ammo-germanys-ukraine-pledges-...          world  "
      ]
     },
     "execution_count": 3,
     "metadata": {},
     "output_type": "execute_result"
    }
   ],
   "source": [
    "df = pd.read_csv('C:\\\\Users\\\\Anil munde\\\\OneDrive\\\\Desktop\\\\Neural Lab\\\\Sentiment Analysis Webapp\\\\Sentiment_DATASET.csv')\n",
    "df.head()"
   ]
  },
  {
   "cell_type": "code",
   "execution_count": 4,
   "id": "f3b0e85a",
   "metadata": {},
   "outputs": [
    {
     "name": "stdout",
     "output_type": "stream",
     "text": [
      "(20000, 5)\n",
      "2\n",
      "100000\n",
      "field_publication_date    0\n",
      "title                     0\n",
      "body                      0\n",
      "path                      0\n",
      "catagory                  0\n",
      "dtype: int64\n",
      "<class 'pandas.core.frame.DataFrame'>\n",
      "RangeIndex: 20000 entries, 0 to 19999\n",
      "Data columns (total 5 columns):\n",
      " #   Column                  Non-Null Count  Dtype \n",
      "---  ------                  --------------  ----- \n",
      " 0   field_publication_date  20000 non-null  object\n",
      " 1   title                   20000 non-null  object\n",
      " 2   body                    20000 non-null  object\n",
      " 3   path                    20000 non-null  object\n",
      " 4   catagory                20000 non-null  object\n",
      "dtypes: object(5)\n",
      "memory usage: 781.4+ KB\n",
      "None\n"
     ]
    }
   ],
   "source": [
    "print(df.shape)  ### Return the shape of data \n",
    "print(df.ndim)   ### Return the n dimensions of data\n",
    "print(df.size)   ### Return the size of data \n",
    "print(df.isna().sum())  ### Returns the sum fo all na values\n",
    "print(df.info())  ### Give concise summary of a DataFrame"
   ]
  },
  {
   "cell_type": "code",
   "execution_count": 5,
   "id": "acecece7",
   "metadata": {},
   "outputs": [],
   "source": [
    "import re"
   ]
  },
  {
   "cell_type": "code",
   "execution_count": 6,
   "id": "1551f93a",
   "metadata": {},
   "outputs": [
    {
     "name": "stderr",
     "output_type": "stream",
     "text": [
      "IOPub data rate exceeded.\n",
      "The notebook server will temporarily stop sending output\n",
      "to the client in order to avoid crashing it.\n",
      "To change this limit, set the config variable\n",
      "`--NotebookApp.iopub_data_rate_limit`.\n",
      "\n",
      "Current values:\n",
      "NotebookApp.iopub_data_rate_limit=1000000.0 (bytes/sec)\n",
      "NotebookApp.rate_limit_window=3.0 (secs)\n",
      "\n"
     ]
    }
   ],
   "source": [
    "corpus = []\n",
    "for i in range(0,20000):   #20000 articles\n",
    "     senta = re.sub('[^a-zA-Z]',\" \",df[\"body\"][i])\n",
    "     senta = senta.lower()\n",
    "     senta = senta.split()\n",
    "     pe = PorterStemmer()\n",
    "     all_stopword = stopwords.words('english')\n",
    "     all_stopword.remove('not')\n",
    "     senta = [pe.stem(word) for word in senta if not word in set(all_stopword)]\n",
    "     senta = \" \".join(senta)\n",
    "     corpus.append(senta)\n",
    "print(corpus)"
   ]
  },
  {
   "cell_type": "code",
   "execution_count": 7,
   "id": "d4321c3d",
   "metadata": {},
   "outputs": [],
   "source": [
    "from sklearn.feature_extraction.text import CountVectorizer\n",
    "cv = CountVectorizer(max_features=20000) ##20000 columns\n",
    "X = cv.fit_transform(corpus).toarray()\n",
    "y = df[\"body\"]"
   ]
  },
  {
   "cell_type": "code",
   "execution_count": 9,
   "id": "277812dc",
   "metadata": {},
   "outputs": [],
   "source": []
  },
  {
   "cell_type": "code",
   "execution_count": 8,
   "id": "05580e29",
   "metadata": {},
   "outputs": [
    {
     "data": {
      "text/plain": [
       "((16000, 20000), (4000,))"
      ]
     },
     "execution_count": 8,
     "metadata": {},
     "output_type": "execute_result"
    }
   ],
   "source": [
    "from sklearn.model_selection import train_test_split\n",
    "X_train,X_test,y_train,y_test = train_test_split(X,y,test_size=0.2,random_state=0)\n",
    "X_train.shape , y_test.shape"
   ]
  },
  {
   "cell_type": "code",
   "execution_count": null,
   "id": "89006485",
   "metadata": {},
   "outputs": [],
   "source": [
    "from sklearn.naive_bayes import GaussianNB,MultinomialNB\n",
    "classifier = GaussianNB().fit(X_train, y_train)\n",
    "cls = MultinomialNB().fit(X_train, y_train)"
   ]
  },
  {
   "cell_type": "code",
   "execution_count": null,
   "id": "e5f1b55d",
   "metadata": {},
   "outputs": [],
   "source": [
    "cls.score(X_test,y_test)"
   ]
  },
  {
   "cell_type": "code",
   "execution_count": null,
   "id": "36ffae9a",
   "metadata": {},
   "outputs": [],
   "source": [
    "classifier.score(X_test,y_test)"
   ]
  },
  {
   "cell_type": "code",
   "execution_count": null,
   "id": "79dd448c",
   "metadata": {},
   "outputs": [],
   "source": [
    "y_pred = cls.predict(X_test)\n",
    "type(y_test)"
   ]
  },
  {
   "cell_type": "code",
   "execution_count": null,
   "id": "d4df0211",
   "metadata": {},
   "outputs": [],
   "source": [
    "print(np.concatenate((y_pred.reshape(len(y_pred),1), np.array(y_test).reshape(len(y_test),1)),1))"
   ]
  },
  {
   "cell_type": "code",
   "execution_count": null,
   "id": "8ece27f7",
   "metadata": {},
   "outputs": [],
   "source": [
    "from sklearn.metrics import confusion_matrix,accuracy_score\n",
    "cm = confusion_matrix(y_test, y_pred)\n",
    "score = accuracy_score(y_test,y_pred)\n",
    "print(cm,score*100)"
   ]
  },
  {
   "cell_type": "code",
   "execution_count": null,
   "id": "4e9df23a",
   "metadata": {},
   "outputs": [],
   "source": []
  }
 ],
 "metadata": {
  "kernelspec": {
   "display_name": "Python 3 (ipykernel)",
   "language": "python",
   "name": "python3"
  },
  "language_info": {
   "codemirror_mode": {
    "name": "ipython",
    "version": 3
   },
   "file_extension": ".py",
   "mimetype": "text/x-python",
   "name": "python",
   "nbconvert_exporter": "python",
   "pygments_lexer": "ipython3",
   "version": "3.9.12"
  }
 },
 "nbformat": 4,
 "nbformat_minor": 5
}
