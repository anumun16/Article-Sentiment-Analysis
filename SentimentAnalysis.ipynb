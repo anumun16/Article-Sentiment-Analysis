{
  "cells": [
    {
      "cell_type": "code",
      "execution_count": null,
      "metadata": {
        "colab": {
          "base_uri": "https://localhost:8080/"
        },
        "id": "0MB6Boe-XMA_",
        "outputId": "4540f50c-bfa3-432a-e834-a60fed9c6339"
      },
      "outputs": [
        {
          "output_type": "stream",
          "name": "stdout",
          "text": [
            "Drive already mounted at /content/drive; to attempt to forcibly remount, call drive.mount(\"/content/drive\", force_remount=True).\n"
          ]
        }
      ],
      "source": [
        "from google.colab import drive\n",
        "drive.mount('/content/drive')"
      ]
    },
    {
      "cell_type": "code",
      "execution_count": null,
      "metadata": {
        "colab": {
          "base_uri": "https://localhost:8080/"
        },
        "id": "4nylksfxpS8j",
        "outputId": "1f3ec642-0e66-402e-dbfd-7acd1cd1b4c0"
      },
      "outputs": [
        {
          "output_type": "stream",
          "name": "stdout",
          "text": [
            "      field_publication_date  \\\n",
            "0        2022-05-27 09:09:12   \n",
            "1        2022-05-27 08:42:18   \n",
            "2        2022-05-27 08:25:07   \n",
            "3        2022-05-26 10:48:00   \n",
            "4        2022-05-26 10:11:00   \n",
            "...                      ...   \n",
            "19995    2021-04-07 02:59:42   \n",
            "19996    2021-04-07 00:40:40   \n",
            "19997    2021-04-07 02:58:00   \n",
            "19998    2021-04-07 02:44:48   \n",
            "19999    2021-04-07 02:47:19   \n",
            "\n",
            "                                                   title  \\\n",
            "0      'How do you shoot my baby?': Medic finds out d...   \n",
            "1      'They told me to apply tomato sauce on my body...   \n",
            "2      Elvis film director calls Presley family respo...   \n",
            "3      Indonesian mum under fire for feeding baby dis...   \n",
            "4      Tanks, but no ammo - Germany's Ukraine pledges...   \n",
            "...                                                  ...   \n",
            "19995  Hong Kong police arrest man, woman after home-...   \n",
            "19996  SIA stewardess gives up high-flying job to car...   \n",
            "19997  8 hobo bags to make a fashionable entrance bac...   \n",
            "19998  Children could be silent carriers of Covid-19 ...   \n",
            "19999  Truck landed on train track minute before dead...   \n",
            "\n",
            "                                                    body  \\\n",
            "0      It was just like any other Tuesday morning for...   \n",
            "1      SINGAPORE - When fraudsters posing as Immigrat...   \n",
            "2      CANNES, France — Film director Baz Luhrmann sa...   \n",
            "3      Parents are generally encouraged to include so...   \n",
            "4      BERLIN — Four weeks ago, Germany agreed to sen...   \n",
            "...                                                  ...   \n",
            "19995  Hong Kong police have arrested a man and woman...   \n",
            "19996  SINGAPORE - For 14 years, Ms Sandra Goh was a ...   \n",
            "19997  As more employees stream back into the workpla...   \n",
            "19998  Children could be more contagious silent carri...   \n",
            "19999  TAIPEI - The truck which collided with a Taiwa...   \n",
            "\n",
            "                                                    path       catagory  \n",
            "0      /world/how-do-you-shoot-my-baby-medic-finds-ou...          world  \n",
            "1      /singapore/they-told-me-apply-tomato-sauce-my-...      singapore  \n",
            "2      /entertainment/elvis-film-director-calls-presl...  entertainment  \n",
            "3      /asia/indonesian-mum-under-fire-feeding-baby-d...           asia  \n",
            "4      /world/tanks-no-ammo-germanys-ukraine-pledges-...          world  \n",
            "...                                                  ...            ...  \n",
            "19995  /china/hong-kong-police-arrest-man-woman-after...          china  \n",
            "19996  /lifestyle/sia-stewardess-gives-high-flying-jo...      lifestyle  \n",
            "19997  /lifestyle/8-hobo-bags-make-fashionable-entran...      lifestyle  \n",
            "19998  /china/children-could-be-silent-carriers-covid...          china  \n",
            "19999  /asia/truck-landed-train-track-minute-deadly-t...           asia  \n",
            "\n",
            "[20000 rows x 5 columns]\n"
          ]
        }
      ],
      "source": [
        "import pandas as pd\n",
        "df = pd.read_csv('/content/drive/My Drive/Sentiment_Analysis/Sentiment_DATASET.csv')\n",
        "print(df)"
      ]
    },
    {
      "cell_type": "code",
      "execution_count": null,
      "metadata": {
        "id": "1dCRwaiZv_iO"
      },
      "outputs": [],
      "source": [
        "import pandas as pd\n",
        "import re\n",
        "import string\n",
        "import numpy as np \n",
        "import random\n",
        "import pandas as pd \n",
        "import matplotlib.pyplot as plt\n",
        "import seaborn as sns\n",
        "%matplotlib inline\n",
        "from wordcloud import WordCloud\n",
        "from textblob import TextBlob"
      ]
    },
    {
      "cell_type": "markdown",
      "source": [
        "**Data Preprocessing and Data Cleaning**"
      ],
      "metadata": {
        "id": "IZhKgSwb6fBs"
      }
    },
    {
      "cell_type": "code",
      "execution_count": null,
      "metadata": {
        "colab": {
          "base_uri": "https://localhost:8080/"
        },
        "id": "NR1PKUdawFP8",
        "outputId": "303166ce-5406-4885-ff29-58aa84cbe023"
      },
      "outputs": [
        {
          "output_type": "stream",
          "name": "stderr",
          "text": [
            "[nltk_data] Downloading package stopwords to /root/nltk_data...\n",
            "[nltk_data]   Package stopwords is already up-to-date!\n"
          ]
        }
      ],
      "source": [
        "import nltk\n",
        "from nltk.stem import WordNetLemmatizer\n",
        "lemma = WordNetLemmatizer()\n",
        "nltk.download('stopwords')\n",
        "from nltk.corpus import stopwords"
      ]
    },
    {
      "cell_type": "markdown",
      "source": [
        "Lowercase "
      ],
      "metadata": {
        "id": "jyh1CDvc6jiU"
      }
    },
    {
      "cell_type": "code",
      "execution_count": null,
      "metadata": {
        "colab": {
          "base_uri": "https://localhost:8080/"
        },
        "id": "FBsZUjEewKT3",
        "outputId": "23da5e87-6973-4b78-ca2a-5a0d135d5045"
      },
      "outputs": [
        {
          "output_type": "execute_result",
          "data": {
            "text/plain": [
              "0    'how do you shoot my baby?': medic finds out d...\n",
              "1    'they told me to apply tomato sauce on my body...\n",
              "2    elvis film director calls presley family respo...\n",
              "3    indonesian mum under fire for feeding baby dis...\n",
              "4    tanks, but no ammo - germany's ukraine pledges...\n",
              "Name: title, dtype: object"
            ]
          },
          "metadata": {},
          "execution_count": 64
        }
      ],
      "source": [
        "df['title']=df['title'].str.lower()\n",
        "df['title'].head()"
      ]
    },
    {
      "cell_type": "code",
      "execution_count": null,
      "metadata": {
        "colab": {
          "base_uri": "https://localhost:8080/"
        },
        "id": "upLaSAdayXD9",
        "outputId": "d8ecdf81-58b9-447a-cce4-c495a521801c"
      },
      "outputs": [
        {
          "output_type": "execute_result",
          "data": {
            "text/plain": [
              "0    it was just like any other tuesday morning for...\n",
              "1    singapore - when fraudsters posing as immigrat...\n",
              "2    cannes, france — film director baz luhrmann sa...\n",
              "3    parents are generally encouraged to include so...\n",
              "4    berlin — four weeks ago, germany agreed to sen...\n",
              "Name: body, dtype: object"
            ]
          },
          "metadata": {},
          "execution_count": 65
        }
      ],
      "source": [
        "df['body']=df['body'].str.lower()\n",
        "df['body'].head()"
      ]
    },
    {
      "cell_type": "markdown",
      "source": [
        "Cleaning and Removing Stopwords"
      ],
      "metadata": {
        "id": "oWXeVIPk6rjr"
      }
    },
    {
      "cell_type": "code",
      "execution_count": null,
      "metadata": {
        "colab": {
          "base_uri": "https://localhost:8080/"
        },
        "id": "waZ-xEYozFpS",
        "outputId": "bd5c1664-03be-4609-8927-4422fa7e357b"
      },
      "outputs": [
        {
          "output_type": "execute_result",
          "data": {
            "text/plain": [
              "0    'how shoot baby?': medic finds daughter killed...\n",
              "1    'they told apply tomato sauce body look injure...\n",
              "2    elvis film director calls presley family respo...\n",
              "3    indonesian mum fire feeding baby dish 25 chill...\n",
              "4    tanks, ammo - germany's ukraine pledges show m...\n",
              "Name: title, dtype: object"
            ]
          },
          "metadata": {},
          "execution_count": 66
        }
      ],
      "source": [
        "STOPWORDS = set(stopwords.words('english'))\n",
        "def cleaning_stopwords(text):\n",
        "    return \" \".join([word for word in str(text).split() if word not in STOPWORDS])\n",
        "df['title'] = df['title'].apply(lambda text: cleaning_stopwords(text))\n",
        "df['title'].head()\n",
        "## removing stopwords from column title"
      ]
    },
    {
      "cell_type": "code",
      "execution_count": null,
      "metadata": {
        "colab": {
          "base_uri": "https://localhost:8080/"
        },
        "id": "ESPPAuyvzSnX",
        "outputId": "e8156974-53a4-4e3c-b5e6-b851cd265eab"
      },
      "outputs": [
        {
          "output_type": "execute_result",
          "data": {
            "text/plain": [
              "0    like tuesday morning angel garza, woke early d...\n",
              "1    singapore - fraudsters posing immigration chec...\n",
              "2    cannes, france — film director baz luhrmann sa...\n",
              "3    parents generally encouraged include fibre chi...\n",
              "4    berlin — four weeks ago, germany agreed send d...\n",
              "Name: body, dtype: object"
            ]
          },
          "metadata": {},
          "execution_count": 67
        }
      ],
      "source": [
        "STOPWORDS = set(stopwords.words('english'))\n",
        "def cleaning_stopwords(text):\n",
        "    return \" \".join([word for word in str(text).split() if word not in STOPWORDS])\n",
        "df['body'] = df['body'].apply(lambda text: cleaning_stopwords(text))\n",
        "df['body'].head()\n",
        "## removing stopwords from column body"
      ]
    },
    {
      "cell_type": "code",
      "execution_count": null,
      "metadata": {
        "colab": {
          "base_uri": "https://localhost:8080/"
        },
        "id": "xgfJHvyWznNT",
        "outputId": "ef64e827-549c-41bb-a745-6d1cbad6075c"
      },
      "outputs": [
        {
          "output_type": "execute_result",
          "data": {
            "text/plain": [
              "0    how shoot baby medic finds daughter killed tex...\n",
              "1    they told apply tomato sauce body look injured...\n",
              "2    elvis film director calls presley family respo...\n",
              "3    indonesian mum fire feeding baby dish 25 chill...\n",
              "4    tanks ammo  germanys ukraine pledges show mili...\n",
              "Name: title, dtype: object"
            ]
          },
          "metadata": {},
          "execution_count": 68
        }
      ],
      "source": [
        "import string\n",
        "english_punctuations = string.punctuation\n",
        "punctuations_list = english_punctuations\n",
        "def cleaning_punctuations(text):\n",
        "    translator = str.maketrans('', '', punctuations_list)\n",
        "    return text.translate(translator)\n",
        "df['title']= df['title'].apply(lambda x: cleaning_punctuations(x))\n",
        "df['title'].head()"
      ]
    },
    {
      "cell_type": "code",
      "execution_count": null,
      "metadata": {
        "colab": {
          "base_uri": "https://localhost:8080/"
        },
        "id": "32eGWZDf0Wkt",
        "outputId": "d5fa581e-fc4a-4918-a228-45b46ad41db9"
      },
      "outputs": [
        {
          "output_type": "execute_result",
          "data": {
            "text/plain": [
              "0    like tuesday morning angel garza woke early dr...\n",
              "1    singapore  fraudsters posing immigration check...\n",
              "2    cannes france — film director baz luhrmann sai...\n",
              "3    parents generally encouraged include fibre chi...\n",
              "4    berlin — four weeks ago germany agreed send do...\n",
              "Name: body, dtype: object"
            ]
          },
          "metadata": {},
          "execution_count": 69
        }
      ],
      "source": [
        "import string\n",
        "english_punctuations = string.punctuation\n",
        "punctuations_list = english_punctuations\n",
        "def cleaning_punctuations(text):\n",
        "    translator = str.maketrans('', '', punctuations_list)\n",
        "    return text.translate(translator)\n",
        "df['body']= df['body'].apply(lambda x: cleaning_punctuations(x))\n",
        "df['body'].head()"
      ]
    },
    {
      "cell_type": "code",
      "execution_count": null,
      "metadata": {
        "colab": {
          "base_uri": "https://localhost:8080/"
        },
        "id": "NG3vepRE09er",
        "outputId": "9af6067c-7297-4138-9215-76a7329cb97e"
      },
      "outputs": [
        {
          "output_type": "execute_result",
          "data": {
            "text/plain": [
              "0    like tuesday morning angel garza woke early dr...\n",
              "1    singapore  fraudsters posing immigration check...\n",
              "2    cannes france — film director baz luhrmann sai...\n",
              "3    parents generally encouraged include fibre chi...\n",
              "4    berlin — four weeks ago germany agreed send do...\n",
              "Name: body, dtype: object"
            ]
          },
          "metadata": {},
          "execution_count": 70
        }
      ],
      "source": [
        "def cleaning_repeating_char(text):\n",
        "    return re.sub(r'(.)1+', r'1', text)\n",
        "df['body'] = df['body'].apply(lambda x: cleaning_repeating_char(x))\n",
        "df['body'].head()"
      ]
    },
    {
      "cell_type": "code",
      "execution_count": null,
      "metadata": {
        "colab": {
          "base_uri": "https://localhost:8080/"
        },
        "id": "qCSKo1kC1bqk",
        "outputId": "e9cdd18c-0388-49bf-b1e6-2338fd472f42"
      },
      "outputs": [
        {
          "output_type": "execute_result",
          "data": {
            "text/plain": [
              "0    like tuesday morning angel garza woke early dr...\n",
              "1    singapore  fraudsters posing immigration check...\n",
              "2    cannes france — film director baz luhrmann sai...\n",
              "3    parents generally encouraged include fibre chi...\n",
              "4    berlin — four weeks ago germany agreed send do...\n",
              "Name: body, dtype: object"
            ]
          },
          "metadata": {},
          "execution_count": 71
        }
      ],
      "source": [
        "def cleaning_numbers(data):\n",
        "    return re.sub('[0-9]+', ' ', data)\n",
        "df['body'] = df['body'].apply(lambda x: cleaning_numbers(x))\n",
        "df['body'].head()"
      ]
    },
    {
      "cell_type": "code",
      "execution_count": null,
      "metadata": {
        "colab": {
          "base_uri": "https://localhost:8080/"
        },
        "id": "xRL9qlfp1iYK",
        "outputId": "6f18e2aa-45ba-41ac-e132-a8bee6cac972"
      },
      "outputs": [
        {
          "output_type": "execute_result",
          "data": {
            "text/plain": [
              "0    how shoot baby medic finds daughter killed tex...\n",
              "1    they told apply tomato sauce body look injured...\n",
              "2    elvis film director calls presley family respo...\n",
              "3    indonesian mum fire feeding baby dish chilli p...\n",
              "4    tanks ammo germanys ukraine pledges show milit...\n",
              "Name: title, dtype: object"
            ]
          },
          "metadata": {},
          "execution_count": 72
        }
      ],
      "source": [
        "def transform_text(text):\n",
        "    return ' '.join([word for word in text.split() if len(word) > 2])\n",
        "df['title'] = df['title'].apply(lambda x: transform_text(x))\n",
        "df['title'].head() "
      ]
    },
    {
      "cell_type": "code",
      "execution_count": null,
      "metadata": {
        "colab": {
          "base_uri": "https://localhost:8080/"
        },
        "id": "NtJ-XPZ-1qSz",
        "outputId": "9b9d3c9c-d705-4032-9a4b-98ce5aae71c2"
      },
      "outputs": [
        {
          "output_type": "execute_result",
          "data": {
            "text/plain": [
              "0    like tuesday morning angel garza woke early dr...\n",
              "1    singapore fraudsters posing immigration checkp...\n",
              "2    cannes france film director baz luhrmann said ...\n",
              "3    parents generally encouraged include fibre chi...\n",
              "4    berlin four weeks ago germany agreed send doze...\n",
              "Name: body, dtype: object"
            ]
          },
          "metadata": {},
          "execution_count": 73
        }
      ],
      "source": [
        "def transform_text(text):\n",
        "    return ' '.join([word for word in text.split() if len(word) > 2])\n",
        "df['body'] = df['body'].apply(lambda x: transform_text(x))\n",
        "df['body'].head() "
      ]
    },
    {
      "cell_type": "code",
      "execution_count": null,
      "metadata": {
        "colab": {
          "base_uri": "https://localhost:8080/"
        },
        "id": "g7_ICb3y1yOP",
        "outputId": "a5fde649-4bbf-43e7-9009-8c5e84bbae19"
      },
      "outputs": [
        {
          "output_type": "execute_result",
          "data": {
            "text/plain": [
              "0    [how, shoot, baby, medic, finds, daughter, kil...\n",
              "1    [they, told, apply, tomato, sauce, body, look,...\n",
              "2    [elvis, film, director, calls, presley, family...\n",
              "3    [indonesian, mum, fire, feeding, baby, dish, c...\n",
              "4    [tanks, ammo, germanys, ukraine, pledges, show...\n",
              "Name: title, dtype: object"
            ]
          },
          "metadata": {},
          "execution_count": 74
        }
      ],
      "source": [
        "from nltk.tokenize import TweetTokenizer\n",
        "\n",
        "tt = TweetTokenizer()\n",
        "df['title']=df['title'].apply(tt.tokenize)\n",
        "df['title'].head()\n"
      ]
    },
    {
      "cell_type": "code",
      "execution_count": null,
      "metadata": {
        "colab": {
          "base_uri": "https://localhost:8080/"
        },
        "id": "8-t9z-Jv17ZU",
        "outputId": "fa4ca59e-9b00-4f1c-989f-50a41707e8b8"
      },
      "outputs": [
        {
          "output_type": "execute_result",
          "data": {
            "text/plain": [
              "0    [like, tuesday, morning, angel, garza, woke, e...\n",
              "1    [singapore, fraudsters, posing, immigration, c...\n",
              "2    [cannes, france, film, director, baz, luhrmann...\n",
              "3    [parents, generally, encouraged, include, fibr...\n",
              "4    [berlin, four, weeks, ago, germany, agreed, se...\n",
              "Name: body, dtype: object"
            ]
          },
          "metadata": {},
          "execution_count": 75
        }
      ],
      "source": [
        "from nltk.tokenize import TweetTokenizer\n",
        "\n",
        "tt = TweetTokenizer()\n",
        "df['body']=df['body'].apply(tt.tokenize)\n",
        "df['body'].head()"
      ]
    },
    {
      "cell_type": "code",
      "execution_count": null,
      "metadata": {
        "colab": {
          "base_uri": "https://localhost:8080/"
        },
        "id": "zQru40cG2La2",
        "outputId": "082cfa73-d4e7-4cd3-de7d-fa7b1223f35e"
      },
      "outputs": [
        {
          "output_type": "execute_result",
          "data": {
            "text/plain": [
              "0    [how, shoot, baby, medic, finds, daughter, kil...\n",
              "1    [they, told, apply, tomato, sauce, body, look,...\n",
              "2    [elvis, film, director, calls, presley, family...\n",
              "3    [indonesian, mum, fire, feeding, baby, dish, c...\n",
              "4    [tanks, ammo, germanys, ukraine, pledges, show...\n",
              "Name: title, dtype: object"
            ]
          },
          "metadata": {},
          "execution_count": 76
        }
      ],
      "source": [
        "import nltk\n",
        "st = nltk.PorterStemmer()\n",
        "def stemming_on_text(data):\n",
        "    text = [st.stem(word) for word in data]\n",
        "    return data\n",
        "df['title']= df['title'].apply(lambda x: stemming_on_text(x))\n",
        "df['title'].head()"
      ]
    },
    {
      "cell_type": "code",
      "execution_count": null,
      "metadata": {
        "colab": {
          "base_uri": "https://localhost:8080/"
        },
        "id": "iQs-JHbb2l0N",
        "outputId": "f0908e25-4d00-406f-f646-54f16a3a73d4"
      },
      "outputs": [
        {
          "output_type": "execute_result",
          "data": {
            "text/plain": [
              "0    [like, tuesday, morning, angel, garza, woke, e...\n",
              "1    [singapore, fraudsters, posing, immigration, c...\n",
              "2    [cannes, france, film, director, baz, luhrmann...\n",
              "3    [parents, generally, encouraged, include, fibr...\n",
              "4    [berlin, four, weeks, ago, germany, agreed, se...\n",
              "Name: body, dtype: object"
            ]
          },
          "metadata": {},
          "execution_count": 77
        }
      ],
      "source": [
        "import nltk\n",
        "st = nltk.PorterStemmer()\n",
        "def stemming_on_text(data):\n",
        "    text = [st.stem(word) for word in data]\n",
        "    return data\n",
        "df['body']= df['body'].apply(lambda x: stemming_on_text(x))\n",
        "df['body'].head()"
      ]
    },
    {
      "cell_type": "code",
      "source": [
        "import nltk\n",
        "nltk.download('wordnet')"
      ],
      "metadata": {
        "colab": {
          "base_uri": "https://localhost:8080/"
        },
        "id": "NKtgTQi66I6D",
        "outputId": "98da7e1e-0239-400f-865d-0d40d12b65f6"
      },
      "execution_count": null,
      "outputs": [
        {
          "output_type": "stream",
          "name": "stderr",
          "text": [
            "[nltk_data] Downloading package wordnet to /root/nltk_data...\n",
            "[nltk_data]   Package wordnet is already up-to-date!\n"
          ]
        },
        {
          "output_type": "execute_result",
          "data": {
            "text/plain": [
              "True"
            ]
          },
          "metadata": {},
          "execution_count": 78
        }
      ]
    },
    {
      "cell_type": "code",
      "source": [
        "import nltk\n",
        "nltk.download('omw-1.4')"
      ],
      "metadata": {
        "colab": {
          "base_uri": "https://localhost:8080/"
        },
        "id": "QBzfWSq26RIq",
        "outputId": "9977b5f8-e686-491e-8144-878c712396c9"
      },
      "execution_count": null,
      "outputs": [
        {
          "output_type": "stream",
          "name": "stderr",
          "text": [
            "[nltk_data] Downloading package omw-1.4 to /root/nltk_data...\n",
            "[nltk_data]   Package omw-1.4 is already up-to-date!\n"
          ]
        },
        {
          "output_type": "execute_result",
          "data": {
            "text/plain": [
              "True"
            ]
          },
          "metadata": {},
          "execution_count": 79
        }
      ]
    },
    {
      "cell_type": "code",
      "source": [
        "lm = nltk.WordNetLemmatizer()\n",
        "def lemmatizer_on_text(data):\n",
        "    text = [lm.lemmatize(word) for word in data]\n",
        "    return data\n",
        "df['body'] = df['body'].apply(lambda x: lemmatizer_on_text(x))\n",
        "df['body'].head()"
      ],
      "metadata": {
        "colab": {
          "base_uri": "https://localhost:8080/"
        },
        "id": "HYwCZ8xQ57TG",
        "outputId": "4949dda8-f62b-458e-8eaf-df2735ec269f"
      },
      "execution_count": null,
      "outputs": [
        {
          "output_type": "execute_result",
          "data": {
            "text/plain": [
              "0    [like, tuesday, morning, angel, garza, woke, e...\n",
              "1    [singapore, fraudsters, posing, immigration, c...\n",
              "2    [cannes, france, film, director, baz, luhrmann...\n",
              "3    [parents, generally, encouraged, include, fibr...\n",
              "4    [berlin, four, weeks, ago, germany, agreed, se...\n",
              "Name: body, dtype: object"
            ]
          },
          "metadata": {},
          "execution_count": 80
        }
      ]
    },
    {
      "cell_type": "code",
      "source": [
        "lm = nltk.WordNetLemmatizer()\n",
        "def lemmatizer_on_text(data):\n",
        "    text = [lm.lemmatize(word) for word in data]\n",
        "    return data\n",
        "df['title'] = df['title'].apply(lambda x: lemmatizer_on_text(x))\n",
        "df['title'].head()"
      ],
      "metadata": {
        "colab": {
          "base_uri": "https://localhost:8080/"
        },
        "id": "namIMbys6jaa",
        "outputId": "4a3abbe8-8724-42bf-b7b7-2556ae28c4ac"
      },
      "execution_count": null,
      "outputs": [
        {
          "output_type": "execute_result",
          "data": {
            "text/plain": [
              "0    [how, shoot, baby, medic, finds, daughter, kil...\n",
              "1    [they, told, apply, tomato, sauce, body, look,...\n",
              "2    [elvis, film, director, calls, presley, family...\n",
              "3    [indonesian, mum, fire, feeding, baby, dish, c...\n",
              "4    [tanks, ammo, germanys, ukraine, pledges, show...\n",
              "Name: title, dtype: object"
            ]
          },
          "metadata": {},
          "execution_count": 81
        }
      ]
    },
    {
      "cell_type": "code",
      "source": [
        "from textblob import TextBlob"
      ],
      "metadata": {
        "id": "J5vxhYuN4hdZ"
      },
      "execution_count": null,
      "outputs": []
    },
    {
      "cell_type": "code",
      "source": [
        "from wordcloud import WordCloud, STOPWORDS\n",
        "import matplotlib.pyplot as plt\n",
        "stopwords = set(STOPWORDS)"
      ],
      "metadata": {
        "id": "l3xTSKNn9KZo"
      },
      "execution_count": null,
      "outputs": []
    },
    {
      "cell_type": "code",
      "source": [
        "def getSubjectivity(text):\n",
        "    return TextBlob('text').sentiment.subjectivity\n",
        "\n",
        "#create a function to get the polarity\n",
        "def getpolarity(text):\n",
        "    return TextBlob('text').sentiment.polarity\n",
        "\n",
        "#create two new columns\n",
        "df['subjectivity']=df['body'].apply(getSubjectivity)\n",
        "df['polarity']=df['body'].apply(getpolarity)\n",
        "\n",
        "#show the new datafraem with the new columns\n",
        "df.head()\n"
      ],
      "metadata": {
        "colab": {
          "base_uri": "https://localhost:8080/",
          "height": 337
        },
        "id": "OIellP5rC21o",
        "outputId": "811b714d-9c71-4d36-f48d-723467a4731a"
      },
      "execution_count": null,
      "outputs": [
        {
          "output_type": "execute_result",
          "data": {
            "text/plain": [
              "  field_publication_date                                              title  \\\n",
              "0    2022-05-27 09:09:12  [how, shoot, baby, medic, finds, daughter, kil...   \n",
              "1    2022-05-27 08:42:18  [they, told, apply, tomato, sauce, body, look,...   \n",
              "2    2022-05-27 08:25:07  [elvis, film, director, calls, presley, family...   \n",
              "3    2022-05-26 10:48:00  [indonesian, mum, fire, feeding, baby, dish, c...   \n",
              "4    2022-05-26 10:11:00  [tanks, ammo, germanys, ukraine, pledges, show...   \n",
              "\n",
              "                                                body  \\\n",
              "0  [like, tuesday, morning, angel, garza, woke, e...   \n",
              "1  [singapore, fraudsters, posing, immigration, c...   \n",
              "2  [cannes, france, film, director, baz, luhrmann...   \n",
              "3  [parents, generally, encouraged, include, fibr...   \n",
              "4  [berlin, four, weeks, ago, germany, agreed, se...   \n",
              "\n",
              "                                                path       catagory  \\\n",
              "0  /world/how-do-you-shoot-my-baby-medic-finds-ou...          world   \n",
              "1  /singapore/they-told-me-apply-tomato-sauce-my-...      singapore   \n",
              "2  /entertainment/elvis-film-director-calls-presl...  entertainment   \n",
              "3  /asia/indonesian-mum-under-fire-feeding-baby-d...           asia   \n",
              "4  /world/tanks-no-ammo-germanys-ukraine-pledges-...          world   \n",
              "\n",
              "   subjectivity  polarity analysis  \n",
              "0           0.0       0.0  neutral  \n",
              "1           0.0       0.0  neutral  \n",
              "2           0.0       0.0  neutral  \n",
              "3           0.0       0.0  neutral  \n",
              "4           0.0       0.0  neutral  "
            ],
            "text/html": [
              "\n",
              "  <div id=\"df-d53df2e3-223b-4031-9571-2bac80174e8b\">\n",
              "    <div class=\"colab-df-container\">\n",
              "      <div>\n",
              "<style scoped>\n",
              "    .dataframe tbody tr th:only-of-type {\n",
              "        vertical-align: middle;\n",
              "    }\n",
              "\n",
              "    .dataframe tbody tr th {\n",
              "        vertical-align: top;\n",
              "    }\n",
              "\n",
              "    .dataframe thead th {\n",
              "        text-align: right;\n",
              "    }\n",
              "</style>\n",
              "<table border=\"1\" class=\"dataframe\">\n",
              "  <thead>\n",
              "    <tr style=\"text-align: right;\">\n",
              "      <th></th>\n",
              "      <th>field_publication_date</th>\n",
              "      <th>title</th>\n",
              "      <th>body</th>\n",
              "      <th>path</th>\n",
              "      <th>catagory</th>\n",
              "      <th>subjectivity</th>\n",
              "      <th>polarity</th>\n",
              "      <th>analysis</th>\n",
              "    </tr>\n",
              "  </thead>\n",
              "  <tbody>\n",
              "    <tr>\n",
              "      <th>0</th>\n",
              "      <td>2022-05-27 09:09:12</td>\n",
              "      <td>[how, shoot, baby, medic, finds, daughter, kil...</td>\n",
              "      <td>[like, tuesday, morning, angel, garza, woke, e...</td>\n",
              "      <td>/world/how-do-you-shoot-my-baby-medic-finds-ou...</td>\n",
              "      <td>world</td>\n",
              "      <td>0.0</td>\n",
              "      <td>0.0</td>\n",
              "      <td>neutral</td>\n",
              "    </tr>\n",
              "    <tr>\n",
              "      <th>1</th>\n",
              "      <td>2022-05-27 08:42:18</td>\n",
              "      <td>[they, told, apply, tomato, sauce, body, look,...</td>\n",
              "      <td>[singapore, fraudsters, posing, immigration, c...</td>\n",
              "      <td>/singapore/they-told-me-apply-tomato-sauce-my-...</td>\n",
              "      <td>singapore</td>\n",
              "      <td>0.0</td>\n",
              "      <td>0.0</td>\n",
              "      <td>neutral</td>\n",
              "    </tr>\n",
              "    <tr>\n",
              "      <th>2</th>\n",
              "      <td>2022-05-27 08:25:07</td>\n",
              "      <td>[elvis, film, director, calls, presley, family...</td>\n",
              "      <td>[cannes, france, film, director, baz, luhrmann...</td>\n",
              "      <td>/entertainment/elvis-film-director-calls-presl...</td>\n",
              "      <td>entertainment</td>\n",
              "      <td>0.0</td>\n",
              "      <td>0.0</td>\n",
              "      <td>neutral</td>\n",
              "    </tr>\n",
              "    <tr>\n",
              "      <th>3</th>\n",
              "      <td>2022-05-26 10:48:00</td>\n",
              "      <td>[indonesian, mum, fire, feeding, baby, dish, c...</td>\n",
              "      <td>[parents, generally, encouraged, include, fibr...</td>\n",
              "      <td>/asia/indonesian-mum-under-fire-feeding-baby-d...</td>\n",
              "      <td>asia</td>\n",
              "      <td>0.0</td>\n",
              "      <td>0.0</td>\n",
              "      <td>neutral</td>\n",
              "    </tr>\n",
              "    <tr>\n",
              "      <th>4</th>\n",
              "      <td>2022-05-26 10:11:00</td>\n",
              "      <td>[tanks, ammo, germanys, ukraine, pledges, show...</td>\n",
              "      <td>[berlin, four, weeks, ago, germany, agreed, se...</td>\n",
              "      <td>/world/tanks-no-ammo-germanys-ukraine-pledges-...</td>\n",
              "      <td>world</td>\n",
              "      <td>0.0</td>\n",
              "      <td>0.0</td>\n",
              "      <td>neutral</td>\n",
              "    </tr>\n",
              "  </tbody>\n",
              "</table>\n",
              "</div>\n",
              "      <button class=\"colab-df-convert\" onclick=\"convertToInteractive('df-d53df2e3-223b-4031-9571-2bac80174e8b')\"\n",
              "              title=\"Convert this dataframe to an interactive table.\"\n",
              "              style=\"display:none;\">\n",
              "        \n",
              "  <svg xmlns=\"http://www.w3.org/2000/svg\" height=\"24px\"viewBox=\"0 0 24 24\"\n",
              "       width=\"24px\">\n",
              "    <path d=\"M0 0h24v24H0V0z\" fill=\"none\"/>\n",
              "    <path d=\"M18.56 5.44l.94 2.06.94-2.06 2.06-.94-2.06-.94-.94-2.06-.94 2.06-2.06.94zm-11 1L8.5 8.5l.94-2.06 2.06-.94-2.06-.94L8.5 2.5l-.94 2.06-2.06.94zm10 10l.94 2.06.94-2.06 2.06-.94-2.06-.94-.94-2.06-.94 2.06-2.06.94z\"/><path d=\"M17.41 7.96l-1.37-1.37c-.4-.4-.92-.59-1.43-.59-.52 0-1.04.2-1.43.59L10.3 9.45l-7.72 7.72c-.78.78-.78 2.05 0 2.83L4 21.41c.39.39.9.59 1.41.59.51 0 1.02-.2 1.41-.59l7.78-7.78 2.81-2.81c.8-.78.8-2.07 0-2.86zM5.41 20L4 18.59l7.72-7.72 1.47 1.35L5.41 20z\"/>\n",
              "  </svg>\n",
              "      </button>\n",
              "      \n",
              "  <style>\n",
              "    .colab-df-container {\n",
              "      display:flex;\n",
              "      flex-wrap:wrap;\n",
              "      gap: 12px;\n",
              "    }\n",
              "\n",
              "    .colab-df-convert {\n",
              "      background-color: #E8F0FE;\n",
              "      border: none;\n",
              "      border-radius: 50%;\n",
              "      cursor: pointer;\n",
              "      display: none;\n",
              "      fill: #1967D2;\n",
              "      height: 32px;\n",
              "      padding: 0 0 0 0;\n",
              "      width: 32px;\n",
              "    }\n",
              "\n",
              "    .colab-df-convert:hover {\n",
              "      background-color: #E2EBFA;\n",
              "      box-shadow: 0px 1px 2px rgba(60, 64, 67, 0.3), 0px 1px 3px 1px rgba(60, 64, 67, 0.15);\n",
              "      fill: #174EA6;\n",
              "    }\n",
              "\n",
              "    [theme=dark] .colab-df-convert {\n",
              "      background-color: #3B4455;\n",
              "      fill: #D2E3FC;\n",
              "    }\n",
              "\n",
              "    [theme=dark] .colab-df-convert:hover {\n",
              "      background-color: #434B5C;\n",
              "      box-shadow: 0px 1px 3px 1px rgba(0, 0, 0, 0.15);\n",
              "      filter: drop-shadow(0px 1px 2px rgba(0, 0, 0, 0.3));\n",
              "      fill: #FFFFFF;\n",
              "    }\n",
              "  </style>\n",
              "\n",
              "      <script>\n",
              "        const buttonEl =\n",
              "          document.querySelector('#df-d53df2e3-223b-4031-9571-2bac80174e8b button.colab-df-convert');\n",
              "        buttonEl.style.display =\n",
              "          google.colab.kernel.accessAllowed ? 'block' : 'none';\n",
              "\n",
              "        async function convertToInteractive(key) {\n",
              "          const element = document.querySelector('#df-d53df2e3-223b-4031-9571-2bac80174e8b');\n",
              "          const dataTable =\n",
              "            await google.colab.kernel.invokeFunction('convertToInteractive',\n",
              "                                                     [key], {});\n",
              "          if (!dataTable) return;\n",
              "\n",
              "          const docLinkHtml = 'Like what you see? Visit the ' +\n",
              "            '<a target=\"_blank\" href=https://colab.research.google.com/notebooks/data_table.ipynb>data table notebook</a>'\n",
              "            + ' to learn more about interactive tables.';\n",
              "          element.innerHTML = '';\n",
              "          dataTable['output_type'] = 'display_data';\n",
              "          await google.colab.output.renderOutput(dataTable, element);\n",
              "          const docLink = document.createElement('div');\n",
              "          docLink.innerHTML = docLinkHtml;\n",
              "          element.appendChild(docLink);\n",
              "        }\n",
              "      </script>\n",
              "    </div>\n",
              "  </div>\n",
              "  "
            ]
          },
          "metadata": {},
          "execution_count": 94
        }
      ]
    },
    {
      "cell_type": "code",
      "source": [
        "def getAnalysis(score):\n",
        "    if score<0:\n",
        "        return 'negative'\n",
        "    elif score==0:\n",
        "        return 'neutral'\n",
        "    else:\n",
        "        return 'positive'\n",
        "    \n",
        "df['analysis']=df['polarity'].apply(getAnalysis)\n",
        "\n",
        "#show dataFrame\n",
        "df.head()"
      ],
      "metadata": {
        "colab": {
          "base_uri": "https://localhost:8080/",
          "height": 337
        },
        "id": "5YXiZBJJIkXF",
        "outputId": "40ead9f9-7cab-435c-9fda-553ec24a17e1"
      },
      "execution_count": null,
      "outputs": [
        {
          "output_type": "execute_result",
          "data": {
            "text/plain": [
              "  field_publication_date                                              title  \\\n",
              "0    2022-05-27 09:09:12  [how, shoot, baby, medic, finds, daughter, kil...   \n",
              "1    2022-05-27 08:42:18  [they, told, apply, tomato, sauce, body, look,...   \n",
              "2    2022-05-27 08:25:07  [elvis, film, director, calls, presley, family...   \n",
              "3    2022-05-26 10:48:00  [indonesian, mum, fire, feeding, baby, dish, c...   \n",
              "4    2022-05-26 10:11:00  [tanks, ammo, germanys, ukraine, pledges, show...   \n",
              "\n",
              "                                                body  \\\n",
              "0  [like, tuesday, morning, angel, garza, woke, e...   \n",
              "1  [singapore, fraudsters, posing, immigration, c...   \n",
              "2  [cannes, france, film, director, baz, luhrmann...   \n",
              "3  [parents, generally, encouraged, include, fibr...   \n",
              "4  [berlin, four, weeks, ago, germany, agreed, se...   \n",
              "\n",
              "                                                path       catagory  \\\n",
              "0  /world/how-do-you-shoot-my-baby-medic-finds-ou...          world   \n",
              "1  /singapore/they-told-me-apply-tomato-sauce-my-...      singapore   \n",
              "2  /entertainment/elvis-film-director-calls-presl...  entertainment   \n",
              "3  /asia/indonesian-mum-under-fire-feeding-baby-d...           asia   \n",
              "4  /world/tanks-no-ammo-germanys-ukraine-pledges-...          world   \n",
              "\n",
              "   subjectivity  polarity analysis  \n",
              "0           0.0       0.0  neutral  \n",
              "1           0.0       0.0  neutral  \n",
              "2           0.0       0.0  neutral  \n",
              "3           0.0       0.0  neutral  \n",
              "4           0.0       0.0  neutral  "
            ],
            "text/html": [
              "\n",
              "  <div id=\"df-1b3afe0b-d4fe-420f-b96d-03f75a8b4fdf\">\n",
              "    <div class=\"colab-df-container\">\n",
              "      <div>\n",
              "<style scoped>\n",
              "    .dataframe tbody tr th:only-of-type {\n",
              "        vertical-align: middle;\n",
              "    }\n",
              "\n",
              "    .dataframe tbody tr th {\n",
              "        vertical-align: top;\n",
              "    }\n",
              "\n",
              "    .dataframe thead th {\n",
              "        text-align: right;\n",
              "    }\n",
              "</style>\n",
              "<table border=\"1\" class=\"dataframe\">\n",
              "  <thead>\n",
              "    <tr style=\"text-align: right;\">\n",
              "      <th></th>\n",
              "      <th>field_publication_date</th>\n",
              "      <th>title</th>\n",
              "      <th>body</th>\n",
              "      <th>path</th>\n",
              "      <th>catagory</th>\n",
              "      <th>subjectivity</th>\n",
              "      <th>polarity</th>\n",
              "      <th>analysis</th>\n",
              "    </tr>\n",
              "  </thead>\n",
              "  <tbody>\n",
              "    <tr>\n",
              "      <th>0</th>\n",
              "      <td>2022-05-27 09:09:12</td>\n",
              "      <td>[how, shoot, baby, medic, finds, daughter, kil...</td>\n",
              "      <td>[like, tuesday, morning, angel, garza, woke, e...</td>\n",
              "      <td>/world/how-do-you-shoot-my-baby-medic-finds-ou...</td>\n",
              "      <td>world</td>\n",
              "      <td>0.0</td>\n",
              "      <td>0.0</td>\n",
              "      <td>neutral</td>\n",
              "    </tr>\n",
              "    <tr>\n",
              "      <th>1</th>\n",
              "      <td>2022-05-27 08:42:18</td>\n",
              "      <td>[they, told, apply, tomato, sauce, body, look,...</td>\n",
              "      <td>[singapore, fraudsters, posing, immigration, c...</td>\n",
              "      <td>/singapore/they-told-me-apply-tomato-sauce-my-...</td>\n",
              "      <td>singapore</td>\n",
              "      <td>0.0</td>\n",
              "      <td>0.0</td>\n",
              "      <td>neutral</td>\n",
              "    </tr>\n",
              "    <tr>\n",
              "      <th>2</th>\n",
              "      <td>2022-05-27 08:25:07</td>\n",
              "      <td>[elvis, film, director, calls, presley, family...</td>\n",
              "      <td>[cannes, france, film, director, baz, luhrmann...</td>\n",
              "      <td>/entertainment/elvis-film-director-calls-presl...</td>\n",
              "      <td>entertainment</td>\n",
              "      <td>0.0</td>\n",
              "      <td>0.0</td>\n",
              "      <td>neutral</td>\n",
              "    </tr>\n",
              "    <tr>\n",
              "      <th>3</th>\n",
              "      <td>2022-05-26 10:48:00</td>\n",
              "      <td>[indonesian, mum, fire, feeding, baby, dish, c...</td>\n",
              "      <td>[parents, generally, encouraged, include, fibr...</td>\n",
              "      <td>/asia/indonesian-mum-under-fire-feeding-baby-d...</td>\n",
              "      <td>asia</td>\n",
              "      <td>0.0</td>\n",
              "      <td>0.0</td>\n",
              "      <td>neutral</td>\n",
              "    </tr>\n",
              "    <tr>\n",
              "      <th>4</th>\n",
              "      <td>2022-05-26 10:11:00</td>\n",
              "      <td>[tanks, ammo, germanys, ukraine, pledges, show...</td>\n",
              "      <td>[berlin, four, weeks, ago, germany, agreed, se...</td>\n",
              "      <td>/world/tanks-no-ammo-germanys-ukraine-pledges-...</td>\n",
              "      <td>world</td>\n",
              "      <td>0.0</td>\n",
              "      <td>0.0</td>\n",
              "      <td>neutral</td>\n",
              "    </tr>\n",
              "  </tbody>\n",
              "</table>\n",
              "</div>\n",
              "      <button class=\"colab-df-convert\" onclick=\"convertToInteractive('df-1b3afe0b-d4fe-420f-b96d-03f75a8b4fdf')\"\n",
              "              title=\"Convert this dataframe to an interactive table.\"\n",
              "              style=\"display:none;\">\n",
              "        \n",
              "  <svg xmlns=\"http://www.w3.org/2000/svg\" height=\"24px\"viewBox=\"0 0 24 24\"\n",
              "       width=\"24px\">\n",
              "    <path d=\"M0 0h24v24H0V0z\" fill=\"none\"/>\n",
              "    <path d=\"M18.56 5.44l.94 2.06.94-2.06 2.06-.94-2.06-.94-.94-2.06-.94 2.06-2.06.94zm-11 1L8.5 8.5l.94-2.06 2.06-.94-2.06-.94L8.5 2.5l-.94 2.06-2.06.94zm10 10l.94 2.06.94-2.06 2.06-.94-2.06-.94-.94-2.06-.94 2.06-2.06.94z\"/><path d=\"M17.41 7.96l-1.37-1.37c-.4-.4-.92-.59-1.43-.59-.52 0-1.04.2-1.43.59L10.3 9.45l-7.72 7.72c-.78.78-.78 2.05 0 2.83L4 21.41c.39.39.9.59 1.41.59.51 0 1.02-.2 1.41-.59l7.78-7.78 2.81-2.81c.8-.78.8-2.07 0-2.86zM5.41 20L4 18.59l7.72-7.72 1.47 1.35L5.41 20z\"/>\n",
              "  </svg>\n",
              "      </button>\n",
              "      \n",
              "  <style>\n",
              "    .colab-df-container {\n",
              "      display:flex;\n",
              "      flex-wrap:wrap;\n",
              "      gap: 12px;\n",
              "    }\n",
              "\n",
              "    .colab-df-convert {\n",
              "      background-color: #E8F0FE;\n",
              "      border: none;\n",
              "      border-radius: 50%;\n",
              "      cursor: pointer;\n",
              "      display: none;\n",
              "      fill: #1967D2;\n",
              "      height: 32px;\n",
              "      padding: 0 0 0 0;\n",
              "      width: 32px;\n",
              "    }\n",
              "\n",
              "    .colab-df-convert:hover {\n",
              "      background-color: #E2EBFA;\n",
              "      box-shadow: 0px 1px 2px rgba(60, 64, 67, 0.3), 0px 1px 3px 1px rgba(60, 64, 67, 0.15);\n",
              "      fill: #174EA6;\n",
              "    }\n",
              "\n",
              "    [theme=dark] .colab-df-convert {\n",
              "      background-color: #3B4455;\n",
              "      fill: #D2E3FC;\n",
              "    }\n",
              "\n",
              "    [theme=dark] .colab-df-convert:hover {\n",
              "      background-color: #434B5C;\n",
              "      box-shadow: 0px 1px 3px 1px rgba(0, 0, 0, 0.15);\n",
              "      filter: drop-shadow(0px 1px 2px rgba(0, 0, 0, 0.3));\n",
              "      fill: #FFFFFF;\n",
              "    }\n",
              "  </style>\n",
              "\n",
              "      <script>\n",
              "        const buttonEl =\n",
              "          document.querySelector('#df-1b3afe0b-d4fe-420f-b96d-03f75a8b4fdf button.colab-df-convert');\n",
              "        buttonEl.style.display =\n",
              "          google.colab.kernel.accessAllowed ? 'block' : 'none';\n",
              "\n",
              "        async function convertToInteractive(key) {\n",
              "          const element = document.querySelector('#df-1b3afe0b-d4fe-420f-b96d-03f75a8b4fdf');\n",
              "          const dataTable =\n",
              "            await google.colab.kernel.invokeFunction('convertToInteractive',\n",
              "                                                     [key], {});\n",
              "          if (!dataTable) return;\n",
              "\n",
              "          const docLinkHtml = 'Like what you see? Visit the ' +\n",
              "            '<a target=\"_blank\" href=https://colab.research.google.com/notebooks/data_table.ipynb>data table notebook</a>'\n",
              "            + ' to learn more about interactive tables.';\n",
              "          element.innerHTML = '';\n",
              "          dataTable['output_type'] = 'display_data';\n",
              "          await google.colab.output.renderOutput(dataTable, element);\n",
              "          const docLink = document.createElement('div');\n",
              "          docLink.innerHTML = docLinkHtml;\n",
              "          element.appendChild(docLink);\n",
              "        }\n",
              "      </script>\n",
              "    </div>\n",
              "  </div>\n",
              "  "
            ]
          },
          "metadata": {},
          "execution_count": 95
        }
      ]
    },
    {
      "cell_type": "code",
      "source": [
        "#create two new dataframe all of the positive text\n",
        "df_positive = df[df['analysis'] == 'positive']\n",
        "\n",
        "# create two new dataframe all of the negative text\n",
        "df_negative = df[df['analysis'] == 'negative']\n",
        "\n",
        "# create two new dataframe all of the neutral text\n",
        "df_neutral=df[df['analysis'] == 'neutral']"
      ],
      "metadata": {
        "id": "tMQZxTrbI4E_"
      },
      "execution_count": null,
      "outputs": []
    },
    {
      "cell_type": "code",
      "source": [
        "tb_counts = df.analysis.value_counts()\n",
        "tb_counts"
      ],
      "metadata": {
        "colab": {
          "base_uri": "https://localhost:8080/"
        },
        "id": "ueKAoooxJK6B",
        "outputId": "d9274443-76c7-414a-fc46-77f6d7c502fe"
      },
      "execution_count": null,
      "outputs": [
        {
          "output_type": "execute_result",
          "data": {
            "text/plain": [
              "neutral    20000\n",
              "Name: analysis, dtype: int64"
            ]
          },
          "metadata": {},
          "execution_count": 97
        }
      ]
    }
  ],
  "metadata": {
    "colab": {
      "name": "SentimentAnalysis.ipynb",
      "provenance": [],
      "collapsed_sections": []
    },
    "kernelspec": {
      "display_name": "Python 3",
      "name": "python3"
    },
    "language_info": {
      "name": "python"
    }
  },
  "nbformat": 4,
  "nbformat_minor": 0
}